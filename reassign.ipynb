{
 "cells": [
  {
   "cell_type": "code",
   "execution_count": 20,
   "id": "0a4cb84b",
   "metadata": {},
   "outputs": [],
   "source": [
    "import pandas as pd \n",
    "import numpy as np\n",
    "\n",
    "orders = pd.read_csv('OutputData.csv')\n",
    "orders.head()\n",
    "\n",
    "od_mat = pd.read_csv('./data/Sample_OD_Matrix.csv', index_col= 0)\n",
    "od_mat.head()\n",
    "\n",
    "rack_capa = 2\n",
    "racks = od_mat.index[2:]"
   ]
  },
  {
   "cell_type": "code",
   "execution_count": 25,
   "id": "41a9a314",
   "metadata": {},
   "outputs": [
    {
     "name": "stdout",
     "output_type": "stream",
     "text": [
      "✅ 미배치 SKU 수: 0\n",
      "✅ 남은 빈 랙 수: 0\n"
     ]
    }
   ],
   "source": [
    "sku_freq = orders['SKU_CD'].value_counts() # sku_cd 10\n",
    "sku_freq.head()\n",
    "\n",
    "cart_skus = orders.groupby('CART_NO')['SKU_CD'].apply(list).to_dict()\n",
    "cart_skus # cart_no : [sku_list]\n",
    "\n",
    "sku_seq = orders.groupby('SKU_CD')['SEQ'].min().to_dict()\n",
    "sku_seq # sku_cd : min(seq)\n",
    "\n",
    "assigned_sku = set()\n",
    "rack_assign_count = {rack: 0 for rack in racks}\n",
    "new_sku_to_loc = {}\n",
    "\n",
    "# 대표 SKU 후보\n",
    "cart_main_sku = {}\n",
    "for cart, sku_list in cart_skus.items() :\n",
    "  sku_list = list(set(sku_list))\n",
    "  # 대표 SKU : 빈도 높은순 / 앞 순서 순\n",
    "  sku_list.sort(key= lambda x : (-sku_freq.get(x, 0), sku_seq.get(x, float('inf'))))\n",
    "  cart_main_sku[cart] = sku_list[0]\n",
    "\n",
    "cart_main_sku # 'CART_NO : main_SKU\n",
    "# 대표 SKU 우선순위(-빈도, 앞 순서)로 CART 정렬\n",
    "sorted_cart_by_main_sku = sorted(cart_main_sku.items(),\n",
    "                                 key= lambda x : (-sku_freq.get(x[1], 0), sku_seq.get(x[1], float('inf'))))\n",
    "sorted_cart_by_main_sku # (빈도 높고 앞 순서인 대표 SKU를 포함한 카트)\n",
    "\n",
    "for cart, main_sku in sorted_cart_by_main_sku :\n",
    "  cart_df = orders[orders['CART_NO'] == cart].copy()\n",
    "  cart_df = cart_df.sort_values('SEQ')\n",
    "  cart_skus = cart_df['SKU_CD'].unique().tolist()\n",
    "  \n",
    "  if main_sku not in assigned_sku :\n",
    "    for rack in od_mat.loc[od_mat.index[0], racks].sort_values().index :\n",
    "      if rack_assign_count[rack] < rack_capa :\n",
    "        new_sku_to_loc[main_sku] = rack \n",
    "        assigned_sku.add(main_sku)\n",
    "        rack_assign_count[rack] += 1 \n",
    "        base_rack = rack \n",
    "        break \n",
    "  else :\n",
    "    base_rack = new_sku_to_loc[main_sku]\n",
    "  \n",
    "  remaining_skus = [sku for sku in cart_skus if sku!= main_sku and sku not in assigned_sku]\n",
    "  # 빈도순 / 앞 순서순\n",
    "  remaining_skus.sort(key= lambda x: (-sku_freq.get(x, 0), sku_seq.get(x, float('inf'))))\n",
    "  \n",
    "  for sku in remaining_skus :\n",
    "    nearby_racks = od_mat.loc[base_rack, racks].sort_values().index\n",
    "    for rack in nearby_racks :\n",
    "      if rack_assign_count[rack] < rack_capa :\n",
    "        new_sku_to_loc[sku] = rack \n",
    "        assigned_sku.add(sku)\n",
    "        rack_assign_count[rack] += 1 \n",
    "        break \n",
    "      \n",
    "orders['LOC'] = orders['SKU_CD'].map(new_sku_to_loc)\n",
    "print(\"✅ 미배치 SKU 수:\", len(set(orders['SKU_CD']) - set(new_sku_to_loc)))\n",
    "print(\"✅ 남은 빈 랙 수:\", sum(v < rack_capa for v in rack_assign_count.values()))\n"
   ]
  },
  {
   "cell_type": "code",
   "execution_count": null,
   "id": "6becbde2",
   "metadata": {},
   "outputs": [],
   "source": [
    "\n",
    "\n"
   ]
  }
 ],
 "metadata": {
  "kernelspec": {
   "display_name": "Python 3",
   "language": "python",
   "name": "python3"
  },
  "language_info": {
   "codemirror_mode": {
    "name": "ipython",
    "version": 3
   },
   "file_extension": ".py",
   "mimetype": "text/x-python",
   "name": "python",
   "nbconvert_exporter": "python",
   "pygments_lexer": "ipython3",
   "version": "3.12.1"
  }
 },
 "nbformat": 4,
 "nbformat_minor": 5
}
